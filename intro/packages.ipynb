{
 "cells": [
  {
   "cell_type": "markdown",
   "metadata": {},
   "source": [
    "# About torch grad"
   ]
  },
  {
   "cell_type": "code",
   "execution_count": null,
   "metadata": {},
   "outputs": [],
   "source": [
    "import torch\n",
    "\n",
    "x = torch.ones(5)  # input tensor\n",
    "y = torch.zeros(3)  # expected output\n",
    "w = torch.randn(5, 3, requires_grad=True)\n",
    "b = torch.randn(3, requires_grad=True)\n",
    "z = torch.matmul(x, w)+b\n",
    "loss = torch.nn.functional.binary_cross_entropy_with_logits(z, y)"
   ]
  },
  {
   "cell_type": "code",
   "execution_count": null,
   "metadata": {},
   "outputs": [],
   "source": [
    "torch.autograd.grad(loss, w, retain_graph=True)"
   ]
  },
  {
   "cell_type": "code",
   "execution_count": null,
   "metadata": {},
   "outputs": [],
   "source": [
    "loss.backward(retain_graph=True)\n",
    "print(w.grad)\n",
    "print(b.grad)"
   ]
  },
  {
   "cell_type": "markdown",
   "metadata": {},
   "source": [
    "# Mnist-classification Example"
   ]
  },
  {
   "cell_type": "code",
   "execution_count": null,
   "metadata": {},
   "outputs": [],
   "source": [
    "# mount google drive\n",
    "from google.colab import drive\n",
    "drive.mount('/content/drive')"
   ]
  },
  {
   "cell_type": "code",
   "execution_count": null,
   "metadata": {},
   "outputs": [],
   "source": [
    "# entering the directory\n",
    "%cd /content/drive/MyDrive/ICSA_DLcourse/intro"
   ]
  },
  {
   "cell_type": "code",
   "execution_count": null,
   "metadata": {},
   "outputs": [],
   "source": [
    "import torch\n",
    "import torch.nn as nn\n",
    "import torch.optim as optim\n",
    "from torch.utils.data import DataLoader\n",
    "from torchvision import datasets, transforms\n",
    "from torch.utils.tensorboard import SummaryWriter\n",
    "\n",
    "# Load the TensorBoard notebook extension\n",
    "%load_ext tensorboard\n",
    "%tensorboard --logdir runs"
   ]
  },
  {
   "cell_type": "code",
   "execution_count": null,
   "metadata": {},
   "outputs": [],
   "source": [
    "# Define transformations for the training and testing data\n",
    "transform = transforms.Compose([\n",
    "    transforms.ToTensor(),\n",
    "    transforms.Normalize((0.5,), (0.5,))\n",
    "])\n",
    "\n",
    "# Load the MNIST dataset\n",
    "train_dataset = datasets.MNIST(root='mnist_data', train=True, transform=transform, download=True)\n",
    "test_dataset = datasets.MNIST(root='mnist_data', train=False, transform=transform)\n",
    "\n",
    "train_loader = DataLoader(dataset=train_dataset, batch_size=64, shuffle=True)\n",
    "test_loader = DataLoader(dataset=test_dataset, batch_size=64, shuffle=False)"
   ]
  },
  {
   "cell_type": "code",
   "execution_count": null,
   "metadata": {},
   "outputs": [],
   "source": [
    "# Define the neural network model\n",
    "class SimpleNN(nn.Module):\n",
    "    def __init__(self):\n",
    "        super(SimpleNN, self).__init__()\n",
    "        self.fc1 = nn.Linear(28 * 28, 128)\n",
    "        self.fc2 = nn.Linear(128, 64)\n",
    "        self.fc3 = nn.Linear(64, 10)\n",
    "\n",
    "    def forward(self, x):\n",
    "        x = x.view(-1, 28 * 28)  # Flatten the input\n",
    "        x = torch.relu(self.fc1(x))\n",
    "        x = torch.relu(self.fc2(x))\n",
    "        x = self.fc3(x)\n",
    "        return x\n",
    "\n",
    "# Set device\n",
    "device = torch.device('cuda' if torch.cuda.is_available() else 'cpu')\n",
    "\n",
    "# Initialize the neural network, loss function, and optimizer\n",
    "model = SimpleNN().to(device)\n",
    "criterion = nn.CrossEntropyLoss()\n",
    "optimizer = optim.Adam(model.parameters(), lr=0.001)\n",
    "\n",
    "# Set up TensorBoard\n",
    "writer = SummaryWriter('runs/mnist_classification')"
   ]
  },
  {
   "cell_type": "code",
   "execution_count": null,
   "metadata": {},
   "outputs": [],
   "source": [
    "# Helper function to log images\n",
    "def images_to_probs(images, labels, model):\n",
    "    '''\n",
    "    Generates predictions and their corresponding probabilities from a trained network\n",
    "    '''\n",
    "    output = model(images)\n",
    "    # Convert output probabilities to predicted class (highest probability)\n",
    "    _, preds_tensor = torch.max(output, 1)\n",
    "    preds = np.squeeze(preds_tensor.cpu().numpy())\n",
    "    return preds\n",
    "\n",
    "def plot_classes_preds(images, labels, preds):\n",
    "    '''\n",
    "    Generates a Matplotlib Figure showing images and their predicted classes.\n",
    "    '''\n",
    "    fig = plt.figure(figsize=(12, 8))\n",
    "    for idx in np.arange(6):\n",
    "        ax = fig.add_subplot(2, 3, idx+1, xticks=[], yticks=[])\n",
    "        img = images[idx] / 2 + 0.5  # unnormalize\n",
    "        img = img.numpy()\n",
    "        plt.imshow(np.transpose(img, (1, 2, 0)))\n",
    "        ax.set_title(f'{preds[idx]} (true: {labels[idx].item()})',\n",
    "                     color=('green' if preds[idx]==labels[idx].item() else 'red'))\n",
    "    return fig"
   ]
  },
  {
   "cell_type": "code",
   "execution_count": 4,
   "metadata": {},
   "outputs": [
    {
     "name": "stdout",
     "output_type": "stream",
     "text": [
      "Epoch [1/5], Step [100/938], Loss: 0.3257\n",
      "Epoch [1/5], Step [200/938], Loss: 0.3824\n",
      "Epoch [1/5], Step [300/938], Loss: 0.2819\n",
      "Epoch [1/5], Step [400/938], Loss: 0.1822\n",
      "Epoch [1/5], Step [500/938], Loss: 0.3453\n",
      "Epoch [1/5], Step [600/938], Loss: 0.1572\n",
      "Epoch [1/5], Step [700/938], Loss: 0.1590\n",
      "Epoch [1/5], Step [800/938], Loss: 0.2946\n",
      "Epoch [1/5], Step [900/938], Loss: 0.3167\n",
      "Accuracy on test set: 92.19%\n",
      "Epoch [2/5], Step [100/938], Loss: 0.1575\n",
      "Epoch [2/5], Step [200/938], Loss: 0.1138\n",
      "Epoch [2/5], Step [300/938], Loss: 0.2558\n",
      "Epoch [2/5], Step [400/938], Loss: 0.1304\n",
      "Epoch [2/5], Step [500/938], Loss: 0.1729\n",
      "Epoch [2/5], Step [600/938], Loss: 0.1278\n",
      "Epoch [2/5], Step [700/938], Loss: 0.1127\n",
      "Epoch [2/5], Step [800/938], Loss: 0.2371\n",
      "Epoch [2/5], Step [900/938], Loss: 0.1428\n",
      "Accuracy on test set: 95.64%\n",
      "Epoch [3/5], Step [100/938], Loss: 0.1903\n",
      "Epoch [3/5], Step [200/938], Loss: 0.0750\n",
      "Epoch [3/5], Step [300/938], Loss: 0.0462\n",
      "Epoch [3/5], Step [400/938], Loss: 0.0747\n",
      "Epoch [3/5], Step [500/938], Loss: 0.0800\n",
      "Epoch [3/5], Step [600/938], Loss: 0.0241\n",
      "Epoch [3/5], Step [700/938], Loss: 0.1994\n",
      "Epoch [3/5], Step [800/938], Loss: 0.0503\n",
      "Epoch [3/5], Step [900/938], Loss: 0.2989\n",
      "Accuracy on test set: 95.85%\n",
      "Epoch [4/5], Step [100/938], Loss: 0.0919\n",
      "Epoch [4/5], Step [200/938], Loss: 0.0406\n",
      "Epoch [4/5], Step [300/938], Loss: 0.1469\n",
      "Epoch [4/5], Step [400/938], Loss: 0.1333\n",
      "Epoch [4/5], Step [500/938], Loss: 0.0676\n",
      "Epoch [4/5], Step [600/938], Loss: 0.1258\n",
      "Epoch [4/5], Step [700/938], Loss: 0.1570\n",
      "Epoch [4/5], Step [800/938], Loss: 0.0692\n",
      "Epoch [4/5], Step [900/938], Loss: 0.0607\n",
      "Accuracy on test set: 96.41%\n",
      "Epoch [5/5], Step [100/938], Loss: 0.0332\n",
      "Epoch [5/5], Step [200/938], Loss: 0.1090\n",
      "Epoch [5/5], Step [300/938], Loss: 0.0849\n",
      "Epoch [5/5], Step [400/938], Loss: 0.1266\n",
      "Epoch [5/5], Step [500/938], Loss: 0.1523\n",
      "Epoch [5/5], Step [600/938], Loss: 0.0373\n",
      "Epoch [5/5], Step [700/938], Loss: 0.0841\n",
      "Epoch [5/5], Step [800/938], Loss: 0.1024\n",
      "Epoch [5/5], Step [900/938], Loss: 0.0575\n",
      "Accuracy on test set: 96.80%\n"
     ]
    }
   ],
   "source": [
    "# Training function\n",
    "def train(num_epochs):\n",
    "    for epoch in range(num_epochs):\n",
    "        model.train()\n",
    "        running_loss = 0.0\n",
    "        for batch_idx, (data, targets) in enumerate(train_loader):\n",
    "            data, targets = data.to(device), targets.to(device)\n",
    "\n",
    "            # Forward pass\n",
    "            outputs = model(data)\n",
    "            loss = criterion(outputs, targets)\n",
    "\n",
    "            # Backward pass and optimization\n",
    "            optimizer.zero_grad()\n",
    "            loss.backward()\n",
    "            optimizer.step()\n",
    "\n",
    "            running_loss += loss.item()\n",
    "\n",
    "            if (batch_idx + 1) % 100 == 0:\n",
    "                print(f'Epoch [{epoch + 1}/{num_epochs}], Step [{batch_idx + 1}/{len(train_loader)}], Loss: {loss.item():.4f}')\n",
    "                writer.add_scalar('training_loss', running_loss / 100, epoch * len(train_loader) + batch_idx)\n",
    "                running_loss = 0.0\n",
    "\n",
    "        test_accuracy = test(epoch)\n",
    "        writer.add_scalar('test_accuracy', test_accuracy, epoch)\n",
    "\n",
    "# Testing function\n",
    "def test(epoch):\n",
    "    model.eval()\n",
    "    correct = 0\n",
    "    total = 0\n",
    "    # Create an iterator for the test loader\n",
    "    data_iter = iter(test_loader)\n",
    "    images, labels = next(data_iter)\n",
    "    images, labels = images.to(device), labels.to(device)\n",
    "    \n",
    "    with torch.no_grad():\n",
    "        for data, targets in test_loader:\n",
    "            data, targets = data.to(device), targets.to(device)\n",
    "            outputs = model(data)\n",
    "            _, predicted = torch.max(outputs.data, 1)\n",
    "            total += targets.size(0)\n",
    "            correct += (predicted == targets).sum().item()\n",
    "\n",
    "    accuracy = 100 * correct / total\n",
    "    print(f'Accuracy on test set: {accuracy:.2f}%')\n",
    "\n",
    "    # Log six test images and their predicted labels\n",
    "    preds = images_to_probs(images, labels, model)\n",
    "    fig = plot_classes_preds(images.cpu(), labels.cpu(), preds)\n",
    "    writer.add_figure('test_predictions_vs_actuals', fig, global_step=epoch)\n",
    "    \n",
    "    return accuracy\n",
    "\n",
    "# Train the model\n",
    "train(num_epochs=5)\n",
    "\n",
    "# Close the TensorBoard writer\n",
    "writer.close()\n"
   ]
  }
 ],
 "metadata": {
  "kernelspec": {
   "display_name": "base",
   "language": "python",
   "name": "python3"
  },
  "language_info": {
   "codemirror_mode": {
    "name": "ipython",
    "version": 3
   },
   "file_extension": ".py",
   "mimetype": "text/x-python",
   "name": "python",
   "nbconvert_exporter": "python",
   "pygments_lexer": "ipython3",
   "version": "3.11.5"
  }
 },
 "nbformat": 4,
 "nbformat_minor": 2
}
