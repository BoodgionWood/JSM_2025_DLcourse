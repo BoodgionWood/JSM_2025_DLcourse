{
 "cells": [
  {
   "cell_type": "code",
   "execution_count": null,
   "metadata": {},
   "outputs": [],
   "source": [
    "# mount google drive\n",
    "from google.colab import drive\n",
    "drive.mount('/content/drive')"
   ]
  },
  {
   "cell_type": "code",
   "execution_count": null,
   "metadata": {},
   "outputs": [],
   "source": [
    "# entering the directory\n",
    "%cd /content/drive/MyDrive/ICSA_DLcourse/quantile"
   ]
  },
  {
   "cell_type": "code",
   "execution_count": null,
   "metadata": {},
   "outputs": [],
   "source": [
    "%load_ext autoreload\n",
    "%autoreload 2\n",
    "\n",
    "from generate import *\n",
    "from model import DQRP,DQR,DQR_NC\n",
    "from functions import train_multi,train_process\n",
    "from plot import plot\n",
    "from train import train_test\n",
    "\n",
    "import torch\n",
    "import matplotlib.pyplot as plt\n",
    "import numpy as np"
   ]
  },
  {
   "cell_type": "markdown",
   "metadata": {},
   "source": [
    "# Plotting the ground truth"
   ]
  },
  {
   "cell_type": "code",
   "execution_count": null,
   "metadata": {},
   "outputs": [],
   "source": [
    "SIZE=2**9; taus=torch.Tensor([0.05,0.25,0.5,0.75,0.95]).unsqueeze(1);\n",
    "models=['linear','wave','triangle']\n",
    "modelnames=['Linear','Wave','Angle']\n",
    "errornames=[r'$t(3)$','Exp','Sine']\n",
    "dataset=[]\n",
    "x0=torch.linspace(0,1,1000).unsqueeze(dim=1);x=[];y=[];quant0=[]\n",
    "for model in models:\n",
    "    dataset=gen_univ(size=SIZE,model=model,error='t',df=2,sigma=1)\n",
    "    x.append(dataset[:][0].data.numpy())\n",
    "    y.append(dataset[:][1].data.numpy())\n",
    "    quant0.append(quant_univ(x0,taus,model=model,error='t',df=2,sigma=1))\n",
    "ylims=[[-4,7],[-6,5],[1,6.5]]\n",
    "positions=['upper left','lower left','upper left']\n",
    "#colors=['r','darkorange','lime','darkviolet','deepskyblue']\n",
    "names=(r'$\\tau=0.05$',r'$\\tau=0.25$',r'$\\tau=0.5$',r'$\\tau=0.75$',r'$\\tau=0.95$','Data')"
   ]
  },
  {
   "cell_type": "code",
   "execution_count": null,
   "metadata": {},
   "outputs": [],
   "source": [
    "figs, axs = plt.subplots(1,len(models),figsize=(60,18))\n",
    "#ticksize=15;titlesize=32;llw=3;dlw=3;\n",
    "\n",
    "for i in range(len(models)):\n",
    "    axs[i].tick_params(axis='both', which='major', labelsize=50)\n",
    "    axs[i].set_title('Model: %s'% (modelnames[i]),fontdict={'family':'Times New Roman','size':60})\n",
    "    axs[i].set_xlabel(r'$X$', fontdict={'family': 'Times New Roman', 'size': 40})\n",
    "    axs[i].set_ylabel(r'$Y$', fontdict={'family': 'Times New Roman', 'size': 40})\n",
    "    axs[i].set_xlim(0, 1)\n",
    "    axs[i].set_ylim(ylims[i])\n",
    "    axs[i].plot(x0, quant0[i], alpha=0.9,lw=4)\n",
    "    axs[i].scatter(x[i], y[i], color = \"k\", alpha=0.3,label='Data',s=32)\n",
    "    axs[i].legend(names,loc=positions[i],fontsize=30)"
   ]
  },
  {
   "cell_type": "markdown",
   "metadata": {},
   "source": [
    "# Defining the models"
   ]
  },
  {
   "cell_type": "markdown",
   "metadata": {},
   "source": [
    "### DQR and DQR*"
   ]
  },
  {
   "cell_type": "markdown",
   "metadata": {},
   "source": [
    "Naive DQR model just outputs $K$ values as quantiles while DQR* model improves over DQR by using $\\log(1+exp(x))$ transformation to get non-negative gaps. By doing so, DQR* guarantees the non-crossingness of the quantiles."
   ]
  },
  {
   "cell_type": "code",
   "execution_count": null,
   "metadata": {},
   "outputs": [],
   "source": [
    "class DQR(torch.nn.Module):\n",
    "    def __init__(self, width_vec: list = None, Noncrossing = False):\n",
    "        super(DQR, self).__init__()\n",
    "        self.width_vec= width_vec\n",
    "        self.Noncrossing = Noncrossing\n",
    "        modules = []\n",
    "        if width_vec is None:\n",
    "            width_vec = [256, 256, 256]\n",
    "    \n",
    "        for i in range(len(width_vec) - 2):\n",
    "                modules.append(\n",
    "                    nn.Sequential(\n",
    "                        nn.Linear(width_vec[i],width_vec[i+1]),\n",
    "                        nn.ReLU()))\n",
    "\n",
    "        self.net = nn.Sequential(*modules,\n",
    "                                 nn.Linear(width_vec[-2],width_vec[-1]))\n",
    "\n",
    "    def forward(self,x):\n",
    "            if self.Noncrossing == False:\n",
    "                output = self.net(x)\n",
    "            if self.Noncrossing == True: \n",
    "                # Output the smallerst quantile \n",
    "                h_0 = self.net(x)[:,0].unsqueeze(1);\n",
    "                # Output the values for compute gaps among quantiles \n",
    "                gaps = self.net(x)[:,1:];\n",
    "                # Apply positive activation function to the gaps\n",
    "                gaps = torch.log(1 + torch.exp(gaps))\n",
    "                # Perform cumsum operation on gaps\n",
    "                cumsum_gaps = torch.cumsum(gaps, dim=1)\n",
    "                # Add smallerst quantile and cumsum_output to form the final output vector\n",
    "                output = torch.cat((h_0,h_0 + cumsum_gaps),dim=1)\n",
    "                \n",
    "            return  output\n",
    "  "
   ]
  },
  {
   "cell_type": "markdown",
   "metadata": {},
   "source": [
    "### NCQR"
   ]
  },
  {
   "cell_type": "markdown",
   "metadata": {},
   "source": [
    "![NCQR](images/NCQR.png)"
   ]
  },
  {
   "cell_type": "markdown",
   "metadata": {},
   "source": [
    "NCQR consists two sub-networks, one generating accumulate values from 0 to 1 the other scales the values to quantiles"
   ]
  },
  {
   "cell_type": "code",
   "execution_count": null,
   "metadata": {},
   "outputs": [],
   "source": [
    "class NC_QR(torch.nn.Module):\n",
    "    def __init__(self, value_layer: list = None, delta_layer:list = None):\n",
    "        super(NC_QR, self).__init__()\n",
    "        self.value_layer = value_layer\n",
    "        self.delta_layer = delta_layer        \n",
    "        if value_layer is None:\n",
    "            value_layer = [256, 256, 256];\n",
    "        if delta_layer is None:\n",
    "            delta_layer = [256, 256, 256];\n",
    "\n",
    "        # Q Network\n",
    "        q_layers = []\n",
    "        for i in range(len(value_layer) - 2):\n",
    "            q_layers.append(\n",
    "                nn.Sequential(\n",
    "                    nn.Linear(value_layer[i],value_layer[i+1]),\n",
    "                    nn.ReLU()))\n",
    "\n",
    "        # Weight Network\n",
    "        weight_layers = []\n",
    "        for i in range(len(delta_layer) - 2):\n",
    "            weight_layers.append(\n",
    "                nn.Sequential(\n",
    "                    nn.Linear(delta_layer[i],delta_layer[i+1]),\n",
    "                    nn.ReLU()))\n",
    "\n",
    "        self.weight = nn.Sequential(*weight_layers, nn.Linear(delta_layer[-2], 2))      \n",
    "        self.q_net = nn.Sequential(*q_layers,nn.Linear(value_layer[-2], value_layer[-1]), nn.Softmax())\n",
    "                                 \n",
    "    def forward(self, x):\n",
    "        quantiles = self.q_net(x)\n",
    "        weight = self.weight(x)\n",
    "        w = weight[:,0].unsqueeze(dim=1).expand(quantiles.shape)\n",
    "        b = weight[:,1].unsqueeze(dim=1).expand(quantiles.shape)\n",
    "        probs = torch.cumsum(quantiles, dim =1)\n",
    "        nc_quantities = w*probs +b\n",
    "\n",
    "        return nc_quantities\n",
    "\n",
    "       "
   ]
  },
  {
   "cell_type": "markdown",
   "metadata": {},
   "source": [
    "### NQ_Net"
   ]
  },
  {
   "cell_type": "markdown",
   "metadata": {},
   "source": [
    "![NQ](images/NQ.png)"
   ]
  },
  {
   "cell_type": "markdown",
   "metadata": {},
   "source": [
    "NQ-net also have two sub-networks, one models the mean and the other models the non-negative gaps."
   ]
  },
  {
   "cell_type": "code",
   "execution_count": null,
   "metadata": {},
   "outputs": [],
   "source": [
    "class DQR_NC(torch.nn.Module):\n",
    "    def __init__(self, value_layer: list = None, delta_layer:list = None, activation='ELU'):\n",
    "        super(DQR_NC, self).__init__()\n",
    "        self.value_layer = value_layer\n",
    "        self.delta_layer = delta_layer\n",
    "        self.activation = activation\n",
    "        if value_layer is None:\n",
    "            value_layer = [256, 256, 256];\n",
    "        if delta_layer is None:\n",
    "            delta_layer = [256, 256, 256];\n",
    "        # Value Network\n",
    "        value_layers = []\n",
    "        for i in range(len(value_layer) - 2):\n",
    "                value_layers.append(\n",
    "                    nn.Sequential(\n",
    "                        nn.Linear(value_layer[i],value_layer[i+1]),\n",
    "                        nn.ReLU()))\n",
    "\n",
    "        self.value = nn.Sequential(*value_layers,nn.Linear(value_layer[-2],value_layer[-1]))\n",
    "                                 \n",
    "        # Delta Network\n",
    "        delta_layers = []\n",
    "        for i in range(len(delta_layer) - 2):\n",
    "                delta_layers.append(\n",
    "                    nn.Sequential(\n",
    "                        nn.Linear(delta_layer[i],delta_layer[i+1]),\n",
    "                        nn.ReLU()))\n",
    "\n",
    "        self.delta = nn.Sequential(*delta_layers, nn.Linear(delta_layer[-2],delta_layer[-1]))\n",
    "                                 \n",
    "    def forward(self, x):\n",
    "        value = self.value(x)\n",
    "        if self.activation==\"ELU\":\n",
    "            delta = torch.nn.functional.elu(self.delta(x))+1;\n",
    "        if self.activation==\"ReLU\":\n",
    "            delta = torch.nn.functional.relu(self.delta(x));\n",
    "        if self.activation==\"log\":\n",
    "            delta = torch.log(1 + torch.exp(self.delta(x)));\n",
    "        # Perform cumsum operation on delta\n",
    "        cumsum_delta = torch.cumsum(delta, dim=1)\n",
    "        # Subtract the mean from elu_output to make the mean 0\n",
    "        cumsum_delta0 = cumsum_delta - cumsum_delta.mean(dim=1, keepdim=True)\n",
    "        # Add value and cumsum_output to form the final output vector\n",
    "        output = value + cumsum_delta0\n",
    "        return output\n"
   ]
  },
  {
   "cell_type": "markdown",
   "metadata": {},
   "source": [
    "# Model training"
   ]
  },
  {
   "cell_type": "markdown",
   "metadata": {},
   "source": [
    "### Setup"
   ]
  },
  {
   "cell_type": "code",
   "execution_count": null,
   "metadata": {},
   "outputs": [],
   "source": [
    "taus = torch.Tensor([0.05,0.25,0.5,0.75,0.95]).unsqueeze(1);\n",
    "error=\"t\"; d=1;df=2;sigma=1; SIZE=2**9"
   ]
  },
  {
   "cell_type": "markdown",
   "metadata": {},
   "source": [
    "### linear"
   ]
  },
  {
   "cell_type": "code",
   "execution_count": null,
   "metadata": {},
   "outputs": [],
   "source": [
    "data_train= gen_univ(model=\"linear\",size=SIZE,error=error,df=df,sigma=sigma)\n",
    "data_val= gen_univ(model=\"linear\",size=int(SIZE/4),error=error,df=df,sigma=sigma)\n",
    "x_test=torch.linspace(0,1,1000).unsqueeze(1)\n",
    "quants = quant_univ(x_test, taus,model=\"linear\",error=error,df=df,sigma=sigma)"
   ]
  },
  {
   "cell_type": "code",
   "execution_count": null,
   "metadata": {},
   "outputs": [],
   "source": [
    "preds = train_test(\"linear\", error, df, sigma, taus)"
   ]
  },
  {
   "cell_type": "code",
   "execution_count": null,
   "metadata": {},
   "outputs": [],
   "source": [
    "plot(quants, data_train, preds, taus)"
   ]
  },
  {
   "cell_type": "markdown",
   "metadata": {},
   "source": [
    "### Wave"
   ]
  },
  {
   "cell_type": "code",
   "execution_count": null,
   "metadata": {},
   "outputs": [],
   "source": [
    "data_train= gen_univ(model=\"wave\",size=SIZE,error=error,df=df,sigma=sigma)\n",
    "data_val= gen_univ(model=\"wave\",size=int(SIZE/4),error=error,df=df,sigma=sigma)\n",
    "x_test=torch.linspace(0,1,1000).unsqueeze(1)\n",
    "quants = quant_univ(x_test, taus,model=\"wave\",error=error,df=df,sigma=sigma)"
   ]
  },
  {
   "cell_type": "code",
   "execution_count": null,
   "metadata": {},
   "outputs": [],
   "source": [
    "preds = train_test(\"wave\", error, df, sigma, taus)"
   ]
  },
  {
   "cell_type": "code",
   "execution_count": null,
   "metadata": {},
   "outputs": [],
   "source": [
    "plot(quants, data_train, preds, taus)"
   ]
  },
  {
   "cell_type": "markdown",
   "metadata": {},
   "source": [
    "### Angle"
   ]
  },
  {
   "cell_type": "code",
   "execution_count": null,
   "metadata": {},
   "outputs": [],
   "source": [
    "data_train= gen_univ(model=\"triangle\",size=SIZE,error=error,df=df,sigma=sigma)\n",
    "data_val= gen_univ(model=\"triangle\",size=int(SIZE/4),error=error,df=df,sigma=sigma)\n",
    "x_test=torch.linspace(0,1,1000).unsqueeze(1)\n",
    "quants = quant_univ(x_test, taus,model=\"triangle\",error=error,df=df,sigma=sigma)"
   ]
  },
  {
   "cell_type": "code",
   "execution_count": null,
   "metadata": {},
   "outputs": [],
   "source": [
    "preds = train_test(\"triangle\", error, df, sigma, taus)"
   ]
  },
  {
   "cell_type": "code",
   "execution_count": null,
   "metadata": {},
   "outputs": [],
   "source": [
    "plot(quants, data_train, preds, taus)"
   ]
  }
 ],
 "metadata": {
  "kernelspec": {
   "display_name": "base",
   "language": "python",
   "name": "python3"
  },
  "language_info": {
   "codemirror_mode": {
    "name": "ipython",
    "version": 3
   },
   "file_extension": ".py",
   "mimetype": "text/x-python",
   "name": "python",
   "nbconvert_exporter": "python",
   "pygments_lexer": "ipython3",
   "version": "3.11.5"
  }
 },
 "nbformat": 4,
 "nbformat_minor": 2
}
