{
 "cells": [
  {
   "cell_type": "code",
   "execution_count": 1,
   "metadata": {},
   "outputs": [
    {
     "name": "stdout",
     "output_type": "stream",
     "text": [
      "Downloading http://yann.lecun.com/exdb/mnist/train-images-idx3-ubyte.gz\n",
      "Failed to download (trying next):\n",
      "HTTP Error 403: Forbidden\n",
      "\n",
      "Downloading https://ossci-datasets.s3.amazonaws.com/mnist/train-images-idx3-ubyte.gz\n",
      "Downloading https://ossci-datasets.s3.amazonaws.com/mnist/train-images-idx3-ubyte.gz to mnist_data/MNIST/raw/train-images-idx3-ubyte.gz\n"
     ]
    },
    {
     "name": "stderr",
     "output_type": "stream",
     "text": [
      "100%|██████████| 9912422/9912422 [00:05<00:00, 1664475.41it/s]\n"
     ]
    },
    {
     "name": "stdout",
     "output_type": "stream",
     "text": [
      "Extracting mnist_data/MNIST/raw/train-images-idx3-ubyte.gz to mnist_data/MNIST/raw\n",
      "\n",
      "Downloading http://yann.lecun.com/exdb/mnist/train-labels-idx1-ubyte.gz\n",
      "Failed to download (trying next):\n",
      "HTTP Error 403: Forbidden\n",
      "\n",
      "Downloading https://ossci-datasets.s3.amazonaws.com/mnist/train-labels-idx1-ubyte.gz\n",
      "Downloading https://ossci-datasets.s3.amazonaws.com/mnist/train-labels-idx1-ubyte.gz to mnist_data/MNIST/raw/train-labels-idx1-ubyte.gz\n"
     ]
    },
    {
     "name": "stderr",
     "output_type": "stream",
     "text": [
      "100%|██████████| 28881/28881 [00:00<00:00, 89699.78it/s]\n"
     ]
    },
    {
     "name": "stdout",
     "output_type": "stream",
     "text": [
      "Extracting mnist_data/MNIST/raw/train-labels-idx1-ubyte.gz to mnist_data/MNIST/raw\n",
      "\n",
      "Downloading http://yann.lecun.com/exdb/mnist/t10k-images-idx3-ubyte.gz\n",
      "Failed to download (trying next):\n",
      "HTTP Error 403: Forbidden\n",
      "\n",
      "Downloading https://ossci-datasets.s3.amazonaws.com/mnist/t10k-images-idx3-ubyte.gz\n",
      "Downloading https://ossci-datasets.s3.amazonaws.com/mnist/t10k-images-idx3-ubyte.gz to mnist_data/MNIST/raw/t10k-images-idx3-ubyte.gz\n"
     ]
    },
    {
     "name": "stderr",
     "output_type": "stream",
     "text": [
      "100%|██████████| 1648877/1648877 [00:07<00:00, 220655.69it/s]\n"
     ]
    },
    {
     "name": "stdout",
     "output_type": "stream",
     "text": [
      "Extracting mnist_data/MNIST/raw/t10k-images-idx3-ubyte.gz to mnist_data/MNIST/raw\n",
      "\n",
      "Downloading http://yann.lecun.com/exdb/mnist/t10k-labels-idx1-ubyte.gz\n",
      "Failed to download (trying next):\n",
      "HTTP Error 403: Forbidden\n",
      "\n",
      "Downloading https://ossci-datasets.s3.amazonaws.com/mnist/t10k-labels-idx1-ubyte.gz\n",
      "Downloading https://ossci-datasets.s3.amazonaws.com/mnist/t10k-labels-idx1-ubyte.gz to mnist_data/MNIST/raw/t10k-labels-idx1-ubyte.gz\n"
     ]
    },
    {
     "name": "stderr",
     "output_type": "stream",
     "text": [
      "100%|██████████| 4542/4542 [00:00<00:00, 1805908.50it/s]\n"
     ]
    },
    {
     "name": "stdout",
     "output_type": "stream",
     "text": [
      "Extracting mnist_data/MNIST/raw/t10k-labels-idx1-ubyte.gz to mnist_data/MNIST/raw\n",
      "\n",
      "Epoch [1/5], Step [100/938], Loss: 0.7456\n",
      "Epoch [1/5], Step [200/938], Loss: 0.4105\n",
      "Epoch [1/5], Step [300/938], Loss: 0.4890\n",
      "Epoch [1/5], Step [400/938], Loss: 0.3577\n",
      "Epoch [1/5], Step [500/938], Loss: 0.4258\n",
      "Epoch [1/5], Step [600/938], Loss: 0.1332\n",
      "Epoch [1/5], Step [700/938], Loss: 0.3133\n",
      "Epoch [1/5], Step [800/938], Loss: 0.1793\n",
      "Epoch [1/5], Step [900/938], Loss: 0.2673\n",
      "Accuracy on test set: 92.72%\n",
      "Epoch [2/5], Step [100/938], Loss: 0.2881\n",
      "Epoch [2/5], Step [200/938], Loss: 0.2680\n",
      "Epoch [2/5], Step [300/938], Loss: 0.0934\n",
      "Epoch [2/5], Step [400/938], Loss: 0.1987\n",
      "Epoch [2/5], Step [500/938], Loss: 0.1185\n",
      "Epoch [2/5], Step [600/938], Loss: 0.1694\n",
      "Epoch [2/5], Step [700/938], Loss: 0.2446\n",
      "Epoch [2/5], Step [800/938], Loss: 0.1352\n",
      "Epoch [2/5], Step [900/938], Loss: 0.2509\n",
      "Accuracy on test set: 94.62%\n",
      "Epoch [3/5], Step [100/938], Loss: 0.1149\n",
      "Epoch [3/5], Step [200/938], Loss: 0.3235\n",
      "Epoch [3/5], Step [300/938], Loss: 0.2451\n",
      "Epoch [3/5], Step [400/938], Loss: 0.1710\n",
      "Epoch [3/5], Step [500/938], Loss: 0.2586\n",
      "Epoch [3/5], Step [600/938], Loss: 0.1764\n",
      "Epoch [3/5], Step [700/938], Loss: 0.2131\n",
      "Epoch [3/5], Step [800/938], Loss: 0.1021\n",
      "Epoch [3/5], Step [900/938], Loss: 0.1007\n",
      "Accuracy on test set: 95.70%\n",
      "Epoch [4/5], Step [100/938], Loss: 0.0869\n",
      "Epoch [4/5], Step [200/938], Loss: 0.0714\n",
      "Epoch [4/5], Step [300/938], Loss: 0.1999\n",
      "Epoch [4/5], Step [400/938], Loss: 0.2626\n",
      "Epoch [4/5], Step [500/938], Loss: 0.0585\n",
      "Epoch [4/5], Step [600/938], Loss: 0.1184\n",
      "Epoch [4/5], Step [700/938], Loss: 0.0961\n",
      "Epoch [4/5], Step [800/938], Loss: 0.0813\n",
      "Epoch [4/5], Step [900/938], Loss: 0.1277\n",
      "Accuracy on test set: 96.24%\n",
      "Epoch [5/5], Step [100/938], Loss: 0.0942\n",
      "Epoch [5/5], Step [200/938], Loss: 0.0637\n",
      "Epoch [5/5], Step [300/938], Loss: 0.0519\n",
      "Epoch [5/5], Step [400/938], Loss: 0.1981\n",
      "Epoch [5/5], Step [500/938], Loss: 0.1028\n",
      "Epoch [5/5], Step [600/938], Loss: 0.0720\n",
      "Epoch [5/5], Step [700/938], Loss: 0.0682\n",
      "Epoch [5/5], Step [800/938], Loss: 0.1316\n",
      "Epoch [5/5], Step [900/938], Loss: 0.1027\n",
      "Accuracy on test set: 96.33%\n"
     ]
    }
   ],
   "source": [
    "import torch\n",
    "import torch.nn as nn\n",
    "import torch.optim as optim\n",
    "from torch.utils.data import DataLoader\n",
    "from torchvision import datasets, transforms\n",
    "from torch.utils.tensorboard import SummaryWriter\n",
    "\n",
    "# Define the neural network model\n",
    "class SimpleNN(nn.Module):\n",
    "    def __init__(self):\n",
    "        super(SimpleNN, self).__init__()\n",
    "        self.fc1 = nn.Linear(28 * 28, 128)\n",
    "        self.fc2 = nn.Linear(128, 64)\n",
    "        self.fc3 = nn.Linear(64, 10)\n",
    "\n",
    "    def forward(self, x):\n",
    "        x = x.view(-1, 28 * 28)  # Flatten the input\n",
    "        x = torch.relu(self.fc1(x))\n",
    "        x = torch.relu(self.fc2(x))\n",
    "        x = self.fc3(x)\n",
    "        return x\n",
    "\n",
    "# Set device\n",
    "device = torch.device('cuda' if torch.cuda.is_available() else 'cpu')\n",
    "\n",
    "# Define transformations for the training and testing data\n",
    "transform = transforms.Compose([\n",
    "    transforms.ToTensor(),\n",
    "    transforms.Normalize((0.5,), (0.5,))\n",
    "])\n",
    "\n",
    "# Load the MNIST dataset\n",
    "train_dataset = datasets.MNIST(root='mnist_data', train=True, transform=transform, download=True)\n",
    "test_dataset = datasets.MNIST(root='mnist_data', train=False, transform=transform)\n",
    "\n",
    "train_loader = DataLoader(dataset=train_dataset, batch_size=64, shuffle=True)\n",
    "test_loader = DataLoader(dataset=test_dataset, batch_size=64, shuffle=False)\n",
    "\n",
    "# Initialize the neural network, loss function, and optimizer\n",
    "model = SimpleNN().to(device)\n",
    "criterion = nn.CrossEntropyLoss()\n",
    "optimizer = optim.Adam(model.parameters(), lr=0.001)\n",
    "\n",
    "# Set up TensorBoard\n",
    "writer = SummaryWriter('runs/mnist_classification')\n",
    "\n",
    "# Training function\n",
    "def train(num_epochs):\n",
    "    for epoch in range(num_epochs):\n",
    "        model.train()\n",
    "        running_loss = 0.0\n",
    "        for batch_idx, (data, targets) in enumerate(train_loader):\n",
    "            data, targets = data.to(device), targets.to(device)\n",
    "\n",
    "            # Forward pass\n",
    "            outputs = model(data)\n",
    "            loss = criterion(outputs, targets)\n",
    "\n",
    "            # Backward pass and optimization\n",
    "            optimizer.zero_grad()\n",
    "            loss.backward()\n",
    "            optimizer.step()\n",
    "\n",
    "            running_loss += loss.item()\n",
    "\n",
    "            if (batch_idx + 1) % 100 == 0:\n",
    "                print(f'Epoch [{epoch + 1}/{num_epochs}], Step [{batch_idx + 1}/{len(train_loader)}], Loss: {loss.item():.4f}')\n",
    "                writer.add_scalar('training_loss', running_loss / 100, epoch * len(train_loader) + batch_idx)\n",
    "                running_loss = 0.0\n",
    "\n",
    "        test_accuracy = test()\n",
    "        writer.add_scalar('test_accuracy', test_accuracy, epoch)\n",
    "\n",
    "# Testing function\n",
    "def test():\n",
    "    model.eval()\n",
    "    correct = 0\n",
    "    total = 0\n",
    "    with torch.no_grad():\n",
    "        for data, targets in test_loader:\n",
    "            data, targets = data.to(device), targets.to(device)\n",
    "            outputs = model(data)\n",
    "            _, predicted = torch.max(outputs.data, 1)\n",
    "            total += targets.size(0)\n",
    "            correct += (predicted == targets).sum().item()\n",
    "\n",
    "    accuracy = 100 * correct / total\n",
    "    print(f'Accuracy on test set: {accuracy:.2f}%')\n",
    "    return accuracy\n",
    "\n",
    "# Train the model\n",
    "train(num_epochs=5)\n",
    "\n",
    "# Close the TensorBoard writer\n",
    "writer.close()\n"
   ]
  }
 ],
 "metadata": {
  "kernelspec": {
   "display_name": "base",
   "language": "python",
   "name": "python3"
  },
  "language_info": {
   "codemirror_mode": {
    "name": "ipython",
    "version": 3
   },
   "file_extension": ".py",
   "mimetype": "text/x-python",
   "name": "python",
   "nbconvert_exporter": "python",
   "pygments_lexer": "ipython3",
   "version": "3.11.5"
  }
 },
 "nbformat": 4,
 "nbformat_minor": 2
}
