{
 "cells": [
  {
   "cell_type": "code",
   "execution_count": null,
   "metadata": {},
   "outputs": [],
   "source": [
    "# mount google drive\n",
    "from google.colab import drive\n",
    "drive.mount('/content/drive')"
   ]
  },
  {
   "cell_type": "code",
   "execution_count": null,
   "metadata": {},
   "outputs": [],
   "source": [
    "# entering the directory\n",
    "%cd /content/drive/MyDrive/ICSA_DLcourse/survival/time_series"
   ]
  },
  {
   "cell_type": "code",
   "execution_count": 1,
   "metadata": {},
   "outputs": [],
   "source": [
    "import zipfile\n",
    "with zipfile.ZipFile(\"data-cd.zip\", 'r') as zip_ref:\n",
    "    zip_ref.extractall()"
   ]
  },
  {
   "cell_type": "markdown",
   "metadata": {},
   "source": [
    "# Import packages"
   ]
  },
  {
   "cell_type": "code",
   "execution_count": null,
   "metadata": {},
   "outputs": [],
   "source": [
    "%load_ext autoreload\n",
    "%autoreload 2\n",
    "import os\n",
    "import argparse\n",
    "import time\n",
    "import itertools\n",
    "import random\n",
    "import shutil\n",
    "import numpy as np\n",
    "\n",
    "import torch\n",
    "import torch.distributed as dist\n",
    "import torch.nn as nn\n",
    "\n",
    "from config import config as cfg\n",
    "from dataset_v2 import NYCDataset\n",
    "from net import STFORMER\n",
    "from transformers import InformerConfig, InformerModel\n",
    "from transformers import AutoformerConfig, AutoformerForPrediction\n",
    "\n",
    "from utils.misc import mkdir\n",
    "\n",
    "from utils.logger import setup_logger\n",
    "from utils.collect_env import collect_env_info\n",
    "from utils import comm\n",
    "\n",
    "from train import train, validate, RMSE, CPC, WMAPE, MAPE"
   ]
  },
  {
   "cell_type": "code",
   "execution_count": null,
   "metadata": {},
   "outputs": [],
   "source": [
    "train_dataset = NYCDataset(cfg, is_train=True)\n",
    "test_dataset = NYCDataset(cfg, is_train=False)\n",
    "\n",
    "train_dataloader = torch.utils.data.DataLoader(\n",
    "        dataset=train_dataset,\n",
    "        batch_size=cfg.DATALOADER.BATCH_SIZE,\n",
    "        num_workers=cfg.DATALOADER.NUM_WORKERS,\n",
    "        pin_memory=False,\n",
    "        shuffle=False)\n",
    "test_dataloader = torch.utils.data.DataLoader(\n",
    "    dataset=test_dataset,\n",
    "    batch_size=cfg.DATALOADER.BATCH_SIZE,\n",
    "    num_workers=cfg.DATALOADER.NUM_WORKERS,\n",
    "    pin_memory=False,\n",
    "    shuffle=False)"
   ]
  },
  {
   "cell_type": "code",
   "execution_count": null,
   "metadata": {},
   "outputs": [],
   "source": [
    "sample = next(iter(train_dataloader))\n",
    "\n",
    "print(sample.keys())\n",
    "print(\"past_value\", sample[\"dec_x\"].shape,\"past_time_features\", sample[\"enc_time\"].shape, \"future_time_features\", sample[\"dec_time\"].shape, \"future_values\", sample[\"dec_y\"].shape)"
   ]
  },
  {
   "cell_type": "code",
   "execution_count": null,
   "metadata": {},
   "outputs": [],
   "source": [
    "model = STFORMER(cfg).to(torch.float32)\n",
    "optimizer = torch.optim.Adam(model.parameters(), lr=cfg.SOLVER.LR, betas=(0.5, 0.999))"
   ]
  },
  {
   "cell_type": "markdown",
   "metadata": {},
   "source": [
    "# Loading from pre-trained model"
   ]
  },
  {
   "cell_type": "code",
   "execution_count": null,
   "metadata": {},
   "outputs": [],
   "source": [
    "class Args:\n",
    "    def __init__(self):\n",
    "        self.resume = False\n",
    "        self.local_rank = 0\n",
    "        self.seed = 1227\n",
    "        self.print_freq = 20\n",
    "        self.start_epoch = 0\n",
    "args = Args()"
   ]
  },
  {
   "cell_type": "code",
   "execution_count": null,
   "metadata": {},
   "outputs": [],
   "source": [
    "resume_path = cfg.checkpoint_dir + '/model_best.pth.tar'\n",
    "print(f\"=> loading checkpoint {resume_path}\")\n",
    "\n",
    "checkpoint = torch.load(resume_path, map_location=torch.device('cpu'))\n",
    "\n",
    "# Load the new state dictionary into the model\n",
    "model.load_state_dict(checkpoint['state_dict'])\n",
    "optimizer.load_state_dict(checkpoint['optimizer'])\n",
    "\n",
    "# evaluate on validation set\n",
    "wmape, mape, rmse, _, _ = validate(test_dataloader,model,args,cfg)"
   ]
  },
  {
   "cell_type": "code",
   "execution_count": null,
   "metadata": {},
   "outputs": [],
   "source": []
  }
 ],
 "metadata": {
  "kernelspec": {
   "display_name": "base",
   "language": "python",
   "name": "python3"
  },
  "language_info": {
   "codemirror_mode": {
    "name": "ipython",
    "version": 3
   },
   "file_extension": ".py",
   "mimetype": "text/x-python",
   "name": "python",
   "nbconvert_exporter": "python",
   "pygments_lexer": "ipython3",
   "version": "3.11.5"
  }
 },
 "nbformat": 4,
 "nbformat_minor": 2
}
