{
 "cells": [
  {
   "cell_type": "code",
   "execution_count": 1,
   "metadata": {},
   "outputs": [],
   "source": [
    "%load_ext autoreload\n",
    "%autoreload 2\n",
    "import torch\n",
    "device = torch.device('cuda' if torch.cuda.is_available() else 'cpu')"
   ]
  },
  {
   "cell_type": "code",
   "execution_count": 2,
   "metadata": {},
   "outputs": [],
   "source": [
    "from utils import train\n",
    "from config import DeepSurv_config"
   ]
  },
  {
   "cell_type": "markdown",
   "metadata": {},
   "source": [
    "# DeepSurv model"
   ]
  },
  {
   "cell_type": "code",
   "execution_count": 4,
   "metadata": {},
   "outputs": [
    {
     "name": "stdout",
     "output_type": "stream",
     "text": [
      "=> load 1310 samples\n",
      "=> load 328 samples\n",
      "Epoch: 121\tLoss: -0.97257650(-0.76074052)\tc-index: 0.86378474(0.83125485)\tlr: 0.0621189"
     ]
    },
    {
     "data": {
      "text/plain": [
       "0.8392598334962419"
      ]
     },
     "execution_count": 4,
     "metadata": {},
     "output_type": "execute_result"
    }
   ],
   "source": [
    "from DeepSurv.datasets import SurvivalDataset, Datawrapper\n",
    "from DeepSurv.networks import DeepSurv, NegativeLogLikelihood\n",
    "\n",
    "train_loader, test_loader = Datawrapper(\"DeepSurv/data/whas/whas_train_test.h5\")\n",
    "\n",
    "model = DeepSurv(DeepSurv_config).to(device)\n",
    "loss_func = NegativeLogLikelihood(DeepSurv_config).to(device)\n",
    "train(train_loader, test_loader,model, loss_func, DeepSurv_config)"
   ]
  }
 ],
 "metadata": {
  "kernelspec": {
   "display_name": "base",
   "language": "python",
   "name": "python3"
  },
  "language_info": {
   "codemirror_mode": {
    "name": "ipython",
    "version": 3
   },
   "file_extension": ".py",
   "mimetype": "text/x-python",
   "name": "python",
   "nbconvert_exporter": "python",
   "pygments_lexer": "ipython3",
   "version": "3.11.5"
  }
 },
 "nbformat": 4,
 "nbformat_minor": 2
}
